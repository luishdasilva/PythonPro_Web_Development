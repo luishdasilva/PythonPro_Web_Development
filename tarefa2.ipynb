{
 "cells": [
  {
   "cell_type": "markdown",
   "id": "c05e4a6f",
   "metadata": {},
   "source": [
    "### Testes do app\n"
   ]
  },
  {
   "cell_type": "code",
   "execution_count": 60,
   "id": "d38d7f13",
   "metadata": {},
   "outputs": [],
   "source": [
    "from requests import get, post\n",
    "from json import loads\n",
    "import pytest"
   ]
  },
  {
   "cell_type": "code",
   "execution_count": 61,
   "id": "7ed736f4",
   "metadata": {},
   "outputs": [],
   "source": [
    "resp = get(\"http://127.0.0.1:8000\")"
   ]
  },
  {
   "cell_type": "code",
   "execution_count": 62,
   "id": "d36d1c5d",
   "metadata": {},
   "outputs": [
    {
     "data": {
      "text/plain": [
       "'{\"mensagem\":\"missao\"}'"
      ]
     },
     "execution_count": 62,
     "metadata": {},
     "output_type": "execute_result"
    }
   ],
   "source": [
    "resp.text"
   ]
  },
  {
   "cell_type": "code",
   "execution_count": 63,
   "id": "dea9c5c1",
   "metadata": {},
   "outputs": [],
   "source": [
    "resp = post(\"http://127.0.0.1:8000/tarefa\", json = {\"valor1\" : 5,\"valor2\" : 6, \"operacao\" : \"soma\"})"
   ]
  },
  {
   "cell_type": "code",
   "execution_count": 64,
   "id": "19a5739d",
   "metadata": {},
   "outputs": [
    {
     "data": {
      "text/plain": [
       "True"
      ]
     },
     "execution_count": 64,
     "metadata": {},
     "output_type": "execute_result"
    }
   ],
   "source": [
    "resp.ok"
   ]
  },
  {
   "cell_type": "code",
   "execution_count": 65,
   "id": "7a07beaa",
   "metadata": {},
   "outputs": [
    {
     "data": {
      "text/plain": [
       "'{\"valor1\":5,\"valor2\":6,\"operacao\":\"soma\"}'"
      ]
     },
     "execution_count": 65,
     "metadata": {},
     "output_type": "execute_result"
    }
   ],
   "source": [
    "resp.text"
   ]
  },
  {
   "cell_type": "code",
   "execution_count": 66,
   "id": "5cf8fe75",
   "metadata": {},
   "outputs": [
    {
     "data": {
      "text/plain": [
       "{'valor1': 5, 'valor2': 6, 'operacao': 'soma'}"
      ]
     },
     "execution_count": 66,
     "metadata": {},
     "output_type": "execute_result"
    }
   ],
   "source": [
    "res = loads(resp.text)\n",
    "res"
   ]
  },
  {
   "cell_type": "code",
   "execution_count": 67,
   "id": "bbbffd37",
   "metadata": {},
   "outputs": [
    {
     "name": "stdout",
     "output_type": "stream",
     "text": [
      "11\n"
     ]
    }
   ],
   "source": [
    "    if res[\"operacao\"] == \"soma\":\n",
    "        print(res[\"valor1\"] + res[\"valor2\"])\n",
    "    elif res[\"operacao\"] == \"subtracao\":\n",
    "        print(res[\"valor1\"] - res[\"valor2\"])\n",
    "    elif res[\"operacao\"] == \"multiplicacao\":\n",
    "        print(res[\"valor1\"] * res[\"valor2\"])\n",
    "    elif res[\"operacao\"] == \"divisao\":\n",
    "        print(res[\"valor1\"] / res[\"valor2\"])\n",
    "    else:\n",
    "        print(\"Digite: soma,subtracao,multiplicacao ou divisao\")"
   ]
  },
  {
   "cell_type": "code",
   "execution_count": 74,
   "id": "88a056f6",
   "metadata": {},
   "outputs": [],
   "source": [
    "assert res[\"valor1\"] + res[\"valor2\"] == 11"
   ]
  },
  {
   "cell_type": "code",
   "execution_count": null,
   "id": "28015921",
   "metadata": {},
   "outputs": [],
   "source": []
  }
 ],
 "metadata": {
  "kernelspec": {
   "display_name": "Python 3",
   "language": "python",
   "name": "python3"
  },
  "language_info": {
   "codemirror_mode": {
    "name": "ipython",
    "version": 3
   },
   "file_extension": ".py",
   "mimetype": "text/x-python",
   "name": "python",
   "nbconvert_exporter": "python",
   "pygments_lexer": "ipython3",
   "version": "3.8.8"
  }
 },
 "nbformat": 4,
 "nbformat_minor": 5
}
